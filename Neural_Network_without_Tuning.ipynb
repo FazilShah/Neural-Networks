{
  "nbformat": 4,
  "nbformat_minor": 0,
  "metadata": {
    "colab": {
      "name": "Neural Network without Tuning.ipynb",
      "provenance": [],
      "collapsed_sections": [],
      "authorship_tag": "ABX9TyPpYNX3v9YswDiT9DniPzW+",
      "include_colab_link": true
    },
    "kernelspec": {
      "name": "python3",
      "display_name": "Python 3"
    }
  },
  "cells": [
    {
      "cell_type": "markdown",
      "metadata": {
        "id": "view-in-github",
        "colab_type": "text"
      },
      "source": [
        "<a href=\"https://colab.research.google.com/github/FazilShah/Neural-Networks/blob/main/Neural_Network_without_Tuning.ipynb\" target=\"_parent\"><img src=\"https://colab.research.google.com/assets/colab-badge.svg\" alt=\"Open In Colab\"/></a>"
      ]
    },
    {
      "cell_type": "code",
      "metadata": {
        "id": "wq4CUhyOiq9Y"
      },
      "source": [
        "import numpy as np\n",
        "import matplotlib.pyplot as plt\n",
        "import h5py\n",
        "import scipy\n",
        "from PIL import Image\n",
        "from scipy import ndimage\n",
        "from testCases_v4a import *\n",
        "import dnn_app_utils_v3 as dp"
      ],
      "execution_count": null,
      "outputs": []
    },
    {
      "cell_type": "code",
      "metadata": {
        "id": "6gYEGcSIz4__"
      },
      "source": [
        "def initialize_parametersz(L_dims):\n",
        "  np.random.seed(1)\n",
        "  parameters = {}\n",
        "  L = len(L_dims)\n",
        "  for l in range(1, L):\n",
        "    parameters[\"W\" + str(l)] = np.random.randn(L_dims[l], L_dims[l-1])/np.sqrt(L_dims[l-1])\n",
        "    parameters[\"b\" + str(l)] = np.zeros((L_dims[l], 1))\n",
        "  \n",
        "  return parameters"
      ],
      "execution_count": null,
      "outputs": []
    },
    {
      "cell_type": "code",
      "metadata": {
        "id": "osb4wkUY0tgh"
      },
      "source": [
        "def relu_backward(dA, cache):\n",
        "  z = cache\n",
        "  dz = np.array(dA, copy=True)\n",
        "  dz[z<=0] = 0\n",
        "  return dz"
      ],
      "execution_count": null,
      "outputs": []
    },
    {
      "cell_type": "code",
      "metadata": {
        "id": "rXgSITvN0-8e"
      },
      "source": [
        "def sigmoid_backward(dA, cache):\n",
        "  z = cache\n",
        "  s = 1/(1+ np.exp(-z))\n",
        "  dz = dA*s*(1-s)\n",
        "  return dz"
      ],
      "execution_count": null,
      "outputs": []
    },
    {
      "cell_type": "code",
      "metadata": {
        "id": "zsnpQFCenYl6"
      },
      "source": [
        "def sigmoid(z):\n",
        "  A  = 1/(1+np.exp(-z))\n",
        "  cache = z\n",
        "  return A, cache\n"
      ],
      "execution_count": null,
      "outputs": []
    },
    {
      "cell_type": "code",
      "metadata": {
        "id": "5F_XhHgNnv0x"
      },
      "source": [
        "def relu(z):\n",
        "  A = np.maximum(0, z)\n",
        "  cache = z\n",
        "  return A, cache"
      ],
      "execution_count": null,
      "outputs": []
    },
    {
      "cell_type": "code",
      "metadata": {
        "id": "rncTZ1p6i6FO"
      },
      "source": [
        "def linear_forward(A, W, b):\n",
        "  Z = np.dot(W, A) + b\n",
        "  cache = (A, W, b)\n",
        "  return Z, cache\n",
        "\n"
      ],
      "execution_count": null,
      "outputs": []
    },
    {
      "cell_type": "code",
      "metadata": {
        "id": "8AA8S2rdSIWB",
        "outputId": "bba2f8b1-4fc9-4101-9ed0-3e1d590bd4c8",
        "colab": {
          "base_uri": "https://localhost:8080/"
        }
      },
      "source": [
        "Y, AL = compute_cost_test_case()\n",
        "\n",
        "print(\"cost = \" + str(compute_cost(AL, Y)))"
      ],
      "execution_count": null,
      "outputs": [
        {
          "output_type": "stream",
          "text": [
            "cost = 0.2797765635793423\n"
          ],
          "name": "stdout"
        }
      ]
    },
    {
      "cell_type": "code",
      "metadata": {
        "id": "m66C7nA1-iyR"
      },
      "source": [
        "def compute_cost(AL, Y):\n",
        "\n",
        "  m = Y.shape[1]\n",
        "\n",
        "  logprobs = np.multiply(np.log(AL), Y) + np.multiply(np.log(1-AL), (1-Y))\n",
        "  cost = -np.sum(logprobs)/m\n",
        "\n",
        "  cost = np.squeeze(cost)\n",
        "  assert(cost.shape == ())\n",
        "\n",
        "\n",
        "  return cost\n"
      ],
      "execution_count": null,
      "outputs": []
    },
    {
      "cell_type": "code",
      "metadata": {
        "id": "AmqGvJdbkEor"
      },
      "source": [
        "def linear_activation_forward(A_prev, w, b, activation):\n",
        "\n",
        "  if activation == 'sigmoid':\n",
        "    Z, linear_cache = linear_forward(A_prev, w, b)\n",
        "    A, activation_cache = sigmoid(Z)\n",
        "  elif activation == 'relu':\n",
        "    Z, linear_cache = linear_forward(A_prev, w, b)\n",
        "    A, activation_cache = relu(Z)\n",
        "  cache = (linear_cache, activation_cache)\n",
        "  return A, cache"
      ],
      "execution_count": null,
      "outputs": []
    },
    {
      "cell_type": "code",
      "metadata": {
        "id": "1l8s_c1gkl0x"
      },
      "source": [
        "def L_model_forward(X, parameters):\n",
        "  caches = []\n",
        "  A = X\n",
        "  L = len(parameters)//2\n",
        "  for l in range(1, L):\n",
        "    A_prev = A\n",
        "    A, cache = linear_activation_forward(A_prev, parameters[\"W\" + str(l)], parameters[\"b\" + str(l)], activation = 'relu')\n",
        "    caches.append(cache)\n",
        "  AL, cache = linear_activation_forward(A, parameters[\"W\" + str(L)], parameters[\"b\" + str(L)], activation = 'sigmoid')\n",
        "  caches.append(cache)\n",
        "  return AL, caches\n",
        "\n"
      ],
      "execution_count": null,
      "outputs": []
    },
    {
      "cell_type": "code",
      "metadata": {
        "id": "RpoIk5D3rLMm"
      },
      "source": [
        "def linear_backward(dZ, cache):\n",
        "  A_prev, W, b = cache\n",
        "  m = A_prev.shape[1]\n",
        "  dW = (np.dot(dZ, A_prev.T))/m\n",
        "  db = np.sum(dZ, axis = 1, keepdims = True)/m\n",
        "  dA_prev = np.dot(W.T, dZ)\n",
        "  return dA_prev, dW, db"
      ],
      "execution_count": null,
      "outputs": []
    },
    {
      "cell_type": "code",
      "metadata": {
        "id": "H3ss7jaxr6mc"
      },
      "source": [
        "def linear_activation_backward(dA, cache, activation):\n",
        "  linear_cache, activation_cache = cache\n",
        "  \n",
        "  if activation == 'sigmoid':\n",
        "    dZ = sigmoid_backward(dA, activation_cache)\n",
        "    dA_prev, dW, db = linear_backward(dZ, linear_cache)\n",
        "  elif activation == 'relu':\n",
        "    dZ = relu_backward(dA, activation_cache)\n",
        "    dA_prev, dW, db = linear_backward(dZ, linear_cache)\n",
        "  return dA_prev, dW, db\n",
        "\n"
      ],
      "execution_count": null,
      "outputs": []
    },
    {
      "cell_type": "code",
      "metadata": {
        "id": "Ce8AagXTs7fc"
      },
      "source": [
        "def L_model_backward(AL,Y, caches):\n",
        "  L = len(caches)\n",
        "  m = AL.shape[1]\n",
        "  grads = {}\n",
        "  Y = Y.reshape(AL.shape)\n",
        "  dAL = -(np.divide(Y, AL) - np.divide((1-Y), (1-AL)))\n",
        "  \n",
        "  current_cache = caches[L-1]\n",
        "  grads[\"dA\" + str(L-1)], grads[\"dW\" + str(L)], grads[\"db\" + str(L)] = linear_activation_backward(dAL, current_cache, activation='sigmoid')\n",
        "  for l in reversed(range(L-1)):\n",
        "    current_cache = caches[l]\n",
        "    \n",
        "    dA_temp, dw_temp, db_temp = linear_activation_backward(grads[\"dA\" + str(l+1)], current_cache, activation = 'relu')\n",
        "    grads[\"dA\" + str(l)] = dA_temp\n",
        "    grads[\"dW\" + str(l+1)] = dw_temp\n",
        "    grads[\"db\" + str(l+1)] = db_temp\n",
        "  \n",
        "  return grads"
      ],
      "execution_count": null,
      "outputs": []
    },
    {
      "cell_type": "code",
      "metadata": {
        "id": "x02BLx6YzNtE"
      },
      "source": [
        "def update_parameters(parameters, grads, learning_rate):\n",
        "  L = len(parameters)//2\n",
        "  for l in range(L):\n",
        "    parameters[\"W\" + str(l+1)] = parameters[\"W\" + str(l+1)] - learning_rate*grads[\"dW\" + str(l+1)]\n",
        "    parameters[\"b\" + str(l+1)] = parameters[\"b\" + str(l+1)] - learning_rate*grads[\"db\" + str(l+1)]\n",
        "  \n",
        "  return parameters"
      ],
      "execution_count": null,
      "outputs": []
    },
    {
      "cell_type": "code",
      "metadata": {
        "id": "kc5ufyduze46"
      },
      "source": [
        "def load_data():\n",
        "    train_dataset = h5py.File('train_catvnoncat.h5', \"r\")\n",
        "    train_set_x_orig = np.array(train_dataset[\"train_set_x\"][:]) # your train set features\n",
        "    train_set_y_orig = np.array(train_dataset[\"train_set_y\"][:]) # your train set labels\n",
        "\n",
        "    test_dataset = h5py.File('test_catvnoncat.h5', \"r\")\n",
        "    test_set_x_orig = np.array(test_dataset[\"test_set_x\"][:]) # your test set features\n",
        "    test_set_y_orig = np.array(test_dataset[\"test_set_y\"][:]) # your test set labels\n",
        "\n",
        "    classes = np.array(test_dataset[\"list_classes\"][:]) # the list of classes\n",
        "    \n",
        "    train_set_y_orig = train_set_y_orig.reshape((1, train_set_y_orig.shape[0]))\n",
        "    test_set_y_orig = test_set_y_orig.reshape((1, test_set_y_orig.shape[0]))\n",
        "    \n",
        "    return train_set_x_orig, train_set_y_orig, test_set_x_orig, test_set_y_orig, classes"
      ],
      "execution_count": null,
      "outputs": []
    },
    {
      "cell_type": "markdown",
      "metadata": {
        "id": "2MtGoHPI2E1q"
      },
      "source": [
        "Now, We Will apply the above Neural Network on the dataset"
      ]
    },
    {
      "cell_type": "code",
      "metadata": {
        "id": "BId3cl0H2MlK"
      },
      "source": [
        "#loading the data\n",
        "train_x_orig, train_y, test_x_orig, test_y, classes = load_data()"
      ],
      "execution_count": null,
      "outputs": []
    },
    {
      "cell_type": "code",
      "metadata": {
        "id": "vegh50oS2X_W",
        "outputId": "1293894b-ac19-4c2c-ad0b-42ee5fca4b21",
        "colab": {
          "base_uri": "https://localhost:8080/",
          "height": 285
        }
      },
      "source": [
        "#Checking the picture from the above dataset\n",
        "plt.imshow(train_x_orig[10])\n",
        "\n",
        "#The above picture turned out to be a flower. We are trying classification with cat vs non cats"
      ],
      "execution_count": null,
      "outputs": [
        {
          "output_type": "execute_result",
          "data": {
            "text/plain": [
              "<matplotlib.image.AxesImage at 0x7fb7588c4128>"
            ]
          },
          "metadata": {
            "tags": []
          },
          "execution_count": 31
        },
        {
          "output_type": "display_data",
          "data": {
            "image/png": "[encoded data removed]",
            "text/plain": [
              "<Figure size 432x288 with 1 Axes>"
            ]
          },
          "metadata": {
            "tags": [],
            "needs_background": "light"
          }
        }
      ]
    },
    {
      "cell_type": "code",
      "metadata": {
        "id": "QGxpacTD23Dx",
        "outputId": "906aaae6-110b-4e7b-cbd8-035d397f69a4",
        "colab": {
          "base_uri": "https://localhost:8080/"
        }
      },
      "source": [
        "#Let's see how many examples we have\n",
        "\n",
        "m_train = train_x_orig.shape[0]\n",
        "num_px = train_x_orig.shape[1]\n",
        "m_test = test_x_orig.shape[0]\n",
        "\n",
        "print(\"Number of training examples: \" + str(m_train))\n",
        "print(\"Number of test examples: \" + str(m_test))"
      ],
      "execution_count": null,
      "outputs": [
        {
          "output_type": "stream",
          "text": [
            "Number of training examples: 209\n",
            "Number of test examples: 50\n"
          ],
          "name": "stdout"
        }
      ]
    },
    {
      "cell_type": "code",
      "metadata": {
        "id": "o7GXqpIq3enC",
        "outputId": "87d6972a-b090-4536-fb3d-84908e006645",
        "colab": {
          "base_uri": "https://localhost:8080/"
        }
      },
      "source": [
        "#Reshape the training and test examples\n",
        "\n",
        "train_x_flatten = train_x_orig.reshape(train_x_orig.shape[0], -1).T\n",
        "test_x_flatten = test_x_orig.reshape(test_x_orig.shape[0], -1).T\n",
        "\n",
        "train_x = train_x_flatten/255.\n",
        "test_x = test_x_flatten/255.\n",
        "\n",
        "print(\"train_x's shape: \" + str(train_x.shape))\n",
        "print(\"test_x's shape: \" + str(test_x.shape))"
      ],
      "execution_count": null,
      "outputs": [
        {
          "output_type": "stream",
          "text": [
            "train_x's shape: (12288, 209)\n",
            "test_x's shape: (12288, 50)\n"
          ],
          "name": "stdout"
        }
      ]
    },
    {
      "cell_type": "code",
      "metadata": {
        "id": "yRvg8LZ64UBt"
      },
      "source": [
        "layer_dims = [12288, 20, 7, 5, 1]"
      ],
      "execution_count": null,
      "outputs": []
    },
    {
      "cell_type": "code",
      "metadata": {
        "id": "x_Ggg11G4j7Z"
      },
      "source": [
        "def L_Layer_Model(X, Y, layer_dims, learning_rate = 0.0075, num_iterations = 300, print_cost = False):\n",
        "  np.random.seed(1)\n",
        "\n",
        "  costs = [] \n",
        "\n",
        "  parameters = initialize_parametersz(layer_dims)\n",
        "\n",
        "  for i in range(0, num_iterations):\n",
        "\n",
        "    AL, caches = L_model_forward(X, parameters)\n",
        "\n",
        "    cost = compute_cost(AL,Y)    \n",
        "\n",
        "    grads = L_model_backward(AL,Y,caches)\n",
        "\n",
        "    parameters = update_parameters(parameters, grads, learning_rate)\n",
        "\n",
        "    if print_cost and i % 100 == 0:\n",
        "        print (\"Cost after iteration %i: %f\" %(i, cost))\n",
        "    if print_cost and i % 100 == 0:\n",
        "        costs.append(cost)\n",
        "\n",
        "  plt.plot(np.squeeze(costs))\n",
        "  plt.ylabel('cost')\n",
        "  plt.xlabel('iterations (per hundreds)')\n",
        "  plt.title(\"Learning rate =\" + str(learning_rate))\n",
        "  plt.show()\n",
        "\n",
        "  \n",
        "  \n",
        "  return parameters\n",
        "\n",
        "\n"
      ],
      "execution_count": null,
      "outputs": []
    },
    {
      "cell_type": "code",
      "metadata": {
        "id": "sHNv8naE67wY",
        "outputId": "657ea14a-2d9e-4dd8-f4c2-ff16cb0d0d4c",
        "colab": {
          "base_uri": "https://localhost:8080/",
          "height": 720
        }
      },
      "source": [
        "parameters = L_Layer_Model(train_x, train_y, layer_dims, num_iterations=2500, print_cost=True)"
      ],
      "execution_count": null,
      "outputs": [
        {
          "output_type": "stream",
          "text": [
            "Cost after iteration 0: 0.771749\n",
            "Cost after iteration 100: 0.672053\n",
            "Cost after iteration 200: 0.648263\n",
            "Cost after iteration 300: 0.611507\n",
            "Cost after iteration 400: 0.567047\n",
            "Cost after iteration 500: 0.540138\n",
            "Cost after iteration 600: 0.527930\n",
            "Cost after iteration 700: 0.465477\n",
            "Cost after iteration 800: 0.369126\n",
            "Cost after iteration 900: 0.391747\n",
            "Cost after iteration 1000: 0.315187\n",
            "Cost after iteration 1100: 0.272700\n",
            "Cost after iteration 1200: 0.237419\n",
            "Cost after iteration 1300: 0.199601\n",
            "Cost after iteration 1400: 0.189263\n",
            "Cost after iteration 1500: 0.161189\n",
            "Cost after iteration 1600: 0.148214\n",
            "Cost after iteration 1700: 0.137775\n",
            "Cost after iteration 1800: 0.129740\n",
            "Cost after iteration 1900: 0.121225\n",
            "Cost after iteration 2000: 0.113821\n",
            "Cost after iteration 2100: 0.107839\n",
            "Cost after iteration 2200: 0.102855\n",
            "Cost after iteration 2300: 0.100897\n",
            "Cost after iteration 2400: 0.092878\n"
          ],
          "name": "stdout"
        },
        {
          "output_type": "display_data",
          "data": {
            "image/png": "[encoded data removed]",
            "text/plain": [
              "<Figure size 432x288 with 1 Axes>"
            ]
          },
          "metadata": {
            "tags": [],
            "needs_background": "light"
          }
        }
      ]
    },
    {
      "cell_type": "code",
      "metadata": {
        "id": "dN8xQpxgvq3h",
        "outputId": "6decb331-3ba5-4466-ac48-cb5ec6eaf38c",
        "colab": {
          "base_uri": "https://localhost:8080/"
        }
      },
      "source": [
        "pred_test = predict(test_x, test_y, parameters)"
      ],
      "execution_count": null,
      "outputs": [
        {
          "output_type": "stream",
          "text": [
            "Accuracy: 0.8\n"
          ],
          "name": "stdout"
        }
      ]
    }
  ]
}